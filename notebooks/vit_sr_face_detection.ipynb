{
 "cells": [
  {
   "cell_type": "code",
   "execution_count": 1,
   "metadata": {},
   "outputs": [
    {
     "ename": "ModuleNotFoundError",
     "evalue": "No module named 'scripts.face_detection'",
     "output_type": "error",
     "traceback": [
      "\u001b[1;31m---------------------------------------------------------------------------\u001b[0m",
      "\u001b[1;31mModuleNotFoundError\u001b[0m                       Traceback (most recent call last)",
      "Cell \u001b[1;32mIn[1], line 10\u001b[0m\n\u001b[0;32m      7\u001b[0m \u001b[38;5;28;01mfrom\u001b[39;00m \u001b[38;5;21;01mtimm\u001b[39;00m \u001b[38;5;28;01mimport\u001b[39;00m create_model\n\u001b[0;32m      9\u001b[0m \u001b[38;5;66;03m# Import custom modules\u001b[39;00m\n\u001b[1;32m---> 10\u001b[0m \u001b[38;5;28;01mfrom\u001b[39;00m \u001b[38;5;21;01mscripts\u001b[39;00m\u001b[38;5;21;01m.\u001b[39;00m\u001b[38;5;21;01mface_detection\u001b[39;00m \u001b[38;5;28;01mimport\u001b[39;00m detect_faces\n\u001b[0;32m     11\u001b[0m \u001b[38;5;28;01mfrom\u001b[39;00m \u001b[38;5;21;01mscripts\u001b[39;00m\u001b[38;5;21;01m.\u001b[39;00m\u001b[38;5;21;01mvit_sr\u001b[39;00m \u001b[38;5;28;01mimport\u001b[39;00m load_vit_sr, enhance_face\n\u001b[0;32m     13\u001b[0m \u001b[38;5;66;03m# Load ViT-SR model\u001b[39;00m\n",
      "\u001b[1;31mModuleNotFoundError\u001b[0m: No module named 'scripts.face_detection'"
     ]
    }
   ],
   "source": [
    "import torch\n",
    "import torchvision.transforms as transforms\n",
    "import cv2\n",
    "import numpy as np\n",
    "from PIL import Image\n",
    "from facenet_pytorch import MTCNN\n",
    "from timm import create_model\n",
    "\n",
    "# Import custom modules\n",
    "from scripts.face_detection import detect_faces\n",
    "from scripts.vit_sr import load_vit_sr, enhance_face\n",
    "\n",
    "# Load ViT-SR model\n",
    "device = torch.device(\"cuda\" if torch.cuda.is_available() else \"cpu\")\n",
    "vit_sr = load_vit_sr(device)\n",
    "\n",
    "# Initialize Face Detector (MTCNN)\n",
    "face_detector = MTCNN(keep_all=False, device=device)\n",
    "\n",
    "# Open Webcam\n",
    "cap = cv2.VideoCapture(0)\n",
    "\n",
    "while True:\n",
    "    ret, frame = cap.read()\n",
    "    if not ret:\n",
    "        break\n",
    "\n",
    "    # Convert to RGB\n",
    "    rgb_frame = cv2.cvtColor(frame, cv2.COLOR_BGR2RGB)\n",
    "\n",
    "    # Detect Faces\n",
    "    faces, boxes = detect_faces(rgb_frame, face_detector)\n",
    "\n",
    "    for (face, box) in zip(faces, boxes):\n",
    "        x1, y1, x2, y2 = map(int, box)\n",
    "        \n",
    "        # Convert Face to PIL Image\n",
    "        face_pil = Image.fromarray(face)\n",
    "\n",
    "        # Apply ViT-SR Enhancement\n",
    "        enhanced_face = enhance_face(face_pil, vit_sr, device)\n",
    "\n",
    "        # Resize back to original shape and overlay\n",
    "        enhanced_face_resized = cv2.resize(enhanced_face, (x2-x1, y2-y1))\n",
    "        frame[y1:y2, x1:x2] = enhanced_face_resized\n",
    "\n",
    "    # Display Output\n",
    "    cv2.imshow(\"ViT-SR Face Enhancement\", frame)\n",
    "\n",
    "    if cv2.waitKey(1) & 0xFF == ord('q'):\n",
    "        break\n",
    "\n",
    "cap.release()\n",
    "cv2.destroyAllWindows()\n"
   ]
  }
 ],
 "metadata": {
  "kernelspec": {
   "display_name": "Python 3",
   "language": "python",
   "name": "python3"
  },
  "language_info": {
   "codemirror_mode": {
    "name": "ipython",
    "version": 3
   },
   "file_extension": ".py",
   "mimetype": "text/x-python",
   "name": "python",
   "nbconvert_exporter": "python",
   "pygments_lexer": "ipython3",
   "version": "3.9.9"
  }
 },
 "nbformat": 4,
 "nbformat_minor": 2
}
